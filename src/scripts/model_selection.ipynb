{
 "cells": [
  {
   "cell_type": "code",
   "execution_count": 1,
   "metadata": {},
   "outputs": [],
   "source": [
    "import csv\n",
    "import json\n",
    "import pandas as pd\n",
    "import numpy as np\n",
    "import random\n",
    "from collections import defaultdict"
   ]
  },
  {
   "cell_type": "code",
   "execution_count": 2,
   "metadata": {},
   "outputs": [
    {
     "name": "stdout",
     "output_type": "stream",
     "text": [
      "Training set X: [[22.          2.          0.          3.         12.          0.46153846\n",
      "   3.          0.375       0.          0.        ]\n",
      " [14.          0.          1.          5.         13.          0.56521739\n",
      "   2.          0.33333333  0.          0.        ]]\n",
      "Training set Y: [1 1]\n"
     ]
    }
   ],
   "source": [
    "train_set = pd.read_csv('../data/final/train_reconstructed.csv')\n",
    "\n",
    "X_train = train_set.iloc[:,:-1].values\n",
    "y_train = train_set['edge'].values\n",
    "\n",
    "print('Training set X: {}'.format(X_train[:2]))\n",
    "print('Training set Y: {}'.format(y_train[:2]))"
   ]
  },
  {
   "cell_type": "code",
   "execution_count": 3,
   "metadata": {},
   "outputs": [
    {
     "name": "stdout",
     "output_type": "stream",
     "text": [
      "Test set X: [[ 9.          0.          1.          2.          6.          0.3\n",
      "   0.          0.          0.          0.        ]\n",
      " [12.          0.          0.          2.          8.          0.34782609\n",
      "   1.          0.14285714  0.          0.        ]]\n",
      "Test set Y: [0 1]\n"
     ]
    }
   ],
   "source": [
    "test_set = pd.read_csv('../data/final/dev-test.csv')\n",
    "\n",
    "X_test = test_set.iloc[:,:-1].values\n",
    "y_test = test_set['edge'].values\n",
    "\n",
    "print('Test set X: {}'.format(X_test[:2]))\n",
    "print('Test set Y: {}'.format(y_test[:2]))"
   ]
  },
  {
   "cell_type": "code",
   "execution_count": 29,
   "metadata": {},
   "outputs": [
    {
     "name": "stdout",
     "output_type": "stream",
     "text": [
      "Prediction : [1 1 1 1 1 1 1 1 1 1]\n",
      "Accuracy for train set: 0.5012873732331459\n",
      "Accuracy for dev set: 0.5\n"
     ]
    }
   ],
   "source": [
    "from sklearn.dummy import DummyClassifier\n",
    "\n",
    "ds_clf = DummyClassifier(strategy=\"most_frequent\") # Define our model, set parameter strategy to 'most_frequent'\n",
    "ds_clf.fit(X_train, y_train) # Use model.fit to train with our dataset \n",
    "Y_predict = ds_clf.predict(X_test) # Use model.predict to make prediction\n",
    "print(\"Prediction :\", Y_predict[:10])\n",
    "print(\"Accuracy for train set:\", ds_clf.score(X_train,y_train))\n",
    "print(\"Accuracy for dev set:\", ds_clf.score(X_test, y_test)) # Use model.score to evaluate our model."
   ]
  },
  {
   "cell_type": "code",
   "execution_count": 61,
   "metadata": {},
   "outputs": [
    {
     "name": "stdout",
     "output_type": "stream",
     "text": [
      "alpha:0.10, acc_train:0.9577, acc_test:0.7628\n",
      "alpha:0.20, acc_train:0.9577, acc_test:0.7628\n",
      "alpha:0.30, acc_train:0.9577, acc_test:0.7628\n",
      "alpha:0.40, acc_train:0.9577, acc_test:0.7628\n",
      "alpha:0.50, acc_train:0.9577, acc_test:0.7628\n",
      "alpha:0.60, acc_train:0.9577, acc_test:0.7628\n",
      "alpha:0.70, acc_train:0.9577, acc_test:0.7628\n",
      "alpha:0.80, acc_train:0.9577, acc_test:0.7628\n",
      "alpha:0.90, acc_train:0.9577, acc_test:0.7628\n",
      "alpha:1.00, acc_train:0.9577, acc_test:0.7628\n"
     ]
    }
   ],
   "source": [
    "from sklearn.naive_bayes import BernoulliNB\n",
    "alpha = [0.1, 0.2, 0.3, 0.4, 0.5, 0.6, 0.7, 0.8, 0.9, 1.0]\n",
    "bnb_train_results = []\n",
    "bnb_test_results = []\n",
    "\n",
    "for a in alpha:\n",
    "    bnb = BernoulliNB(alpha=a)\n",
    "    bnb.fit(X_train, y_train)\n",
    "    \n",
    "    train_acc = bnb.score(X_train, y_train)\n",
    "    test_acc = bnb.score(X_test, y_test)\n",
    "    \n",
    "    print(\"alpha:{:.2f}, acc_train:{:.4f}, acc_test:{:.4f}\".format(a, train_acc, test_acc))\n",
    "    bnb_train_results.append(train_acc)\n",
    "    bnb_test_results.append(test_acc)\n",
    "    \n",
    "    # Prob of being one\n",
    "    Y_train_proba = bnb.predict_proba(X_test)\n",
    "    #print(\"Probabilities :\", Y_proba[:10,1])"
   ]
  },
  {
   "cell_type": "code",
   "execution_count": 62,
   "metadata": {},
   "outputs": [
    {
     "name": "stdout",
     "output_type": "stream",
     "text": [
      "alpha:0.10, acc_train:0.9061, acc_test:0.6724\n",
      "alpha:0.20, acc_train:0.9061, acc_test:0.6724\n",
      "alpha:0.30, acc_train:0.9061, acc_test:0.6724\n",
      "alpha:0.40, acc_train:0.9061, acc_test:0.6724\n",
      "alpha:0.50, acc_train:0.9061, acc_test:0.6724\n",
      "alpha:0.60, acc_train:0.9061, acc_test:0.6724\n",
      "alpha:0.70, acc_train:0.9061, acc_test:0.6724\n",
      "alpha:0.80, acc_train:0.9061, acc_test:0.6724\n",
      "alpha:0.90, acc_train:0.9061, acc_test:0.6724\n",
      "alpha:1.00, acc_train:0.9061, acc_test:0.6724\n"
     ]
    }
   ],
   "source": [
    "from sklearn.naive_bayes import MultinomialNB\n",
    "alpha = [0.1, 0.2, 0.3, 0.4, 0.5, 0.6, 0.7, 0.8, 0.9, 1.0]\n",
    "mnb_train_results = []\n",
    "mnb_test_results = []\n",
    "\n",
    "for a in alpha:\n",
    "    mnb = MultinomialNB(alpha=a)\n",
    "    mnb.fit(X_train, y_train)\n",
    "\n",
    "    train_acc = mnb.score(X_train, y_train)\n",
    "    test_acc = mnb.score(X_test, y_test)\n",
    "    \n",
    "    print(\"alpha:{:.2f}, acc_train:{:.4f}, acc_test:{:.4f}\".format(a, train_acc, test_acc))\n",
    "    mnb_train_results.append(train_acc)\n",
    "    mnb_test_results.append(test_acc)\n",
    "    \n",
    "    # Prob of being one\n",
    "    Y_train_proba = mnb.predict_proba(X_test)\n",
    "    #print(\"Probabilities :\", Y_proba[:10,1])"
   ]
  },
  {
   "cell_type": "code",
   "execution_count": 68,
   "metadata": {},
   "outputs": [
    {
     "name": "stdout",
     "output_type": "stream",
     "text": [
      "acc_train:0.9512, acc_test:0.7875\n"
     ]
    }
   ],
   "source": [
    "from sklearn.naive_bayes import GaussianNB\n",
    "\n",
    "gnb_train_results = []\n",
    "gnb_test_results = []\n",
    "\n",
    "\n",
    "gnb = GaussianNB()\n",
    "gnb.fit(X_train, y_train)\n",
    "\n",
    "train_acc = gnb.score(X_train, y_train)\n",
    "test_acc = gnb.score(X_test, y_test)\n",
    "\n",
    "print(\"acc_train:{:.4f}, acc_test:{:.4f}\".format(train_acc, test_acc))\n",
    "gnb_train_results.append(train_acc)\n",
    "gnb_test_results.append(test_acc)\n",
    "    \n",
    "# Prob of being one\n",
    "Y_train_proba = gnb.predict_proba(X_test)\n",
    "#print(\"Probabilities :\", Y_proba[:10,1])"
   ]
  },
  {
   "cell_type": "code",
   "execution_count": 64,
   "metadata": {},
   "outputs": [
    {
     "name": "stdout",
     "output_type": "stream",
     "text": [
      "depth: 1, n_tree:100 acc_train:0.9598, acc_test:0.8070\n",
      "depth: 2, n_tree:100 acc_train:0.9602, acc_test:0.8070\n",
      "depth: 3, n_tree:100 acc_train:0.9610, acc_test:0.8070\n",
      "depth: 4, n_tree:100 acc_train:0.9625, acc_test:0.8023\n",
      "depth: 5, n_tree:100 acc_train:0.9639, acc_test:0.7879\n",
      "depth: 6, n_tree:100 acc_train:0.9655, acc_test:0.7861\n",
      "depth: 7, n_tree:100 acc_train:0.9665, acc_test:0.7857\n",
      "depth: 8, n_tree:100 acc_train:0.9679, acc_test:0.7813\n",
      "depth: 9, n_tree:100 acc_train:0.9693, acc_test:0.7741\n",
      "depth:10, n_tree:100 acc_train:0.9717, acc_test:0.7756\n"
     ]
    }
   ],
   "source": [
    "from sklearn.ensemble import RandomForestClassifier\n",
    "\n",
    "depth = range(1,10+1)\n",
    "rf_train_results = []\n",
    "rf_test_results = []\n",
    "\n",
    "for d in depth:\n",
    "    clf = RandomForestClassifier(max_depth=d, n_estimators=100)\n",
    "    clf.fit(X_train, y_train)\n",
    "    train_acc = clf.score(X_train,y_train)\n",
    "    test_acc = clf.score(X_test, y_test)\n",
    "    print(\"depth:{:2d}, n_tree:{:3d} acc_train:{:.4f}, acc_test:{:.4f}\".format(d, 100, train_acc, test_acc))\n",
    "    rf_train_results.append(train_acc)\n",
    "    rf_test_results.append(test_acc)"
   ]
  },
  {
   "cell_type": "code",
   "execution_count": 71,
   "metadata": {},
   "outputs": [
    {
     "name": "stdout",
     "output_type": "stream",
     "text": [
      "C0.10 acc_train:0.9435, acc_test:0.7224\n",
      "C0.50 acc_train:0.9579, acc_test:0.7647\n",
      "C1.00 acc_train:0.9580, acc_test:0.8005\n",
      "C1.50 acc_train:0.9584, acc_test:0.8025\n",
      "C2.00 acc_train:0.9583, acc_test:0.8031\n"
     ]
    }
   ],
   "source": [
    "from sklearn.svm import SVC\n",
    "\n",
    "C = [0.1, 0.5, 1, 1.5, 2]\n",
    "svm_train_results = []\n",
    "svm_test_results = []\n",
    "\n",
    "for c_param in C:\n",
    "    clf = SVC(C=c_param)\n",
    "    clf.fit(X_train, y_train)\n",
    "    train_acc = clf.score(X_train,y_train)\n",
    "    test_acc = clf.score(X_test, y_test)\n",
    "    print(\"C{:.2f} acc_train:{:.4f}, acc_test:{:.4f}\".format(c_param, train_acc, test_acc))\n",
    "    svm_train_results.append(train_acc)\n",
    "    svm_test_results.append(test_acc)"
   ]
  },
  {
   "cell_type": "code",
   "execution_count": 74,
   "metadata": {},
   "outputs": [
    {
     "name": "stdout",
     "output_type": "stream",
     "text": [
      "acc_train:0.9599, acc_test:0.7879\n"
     ]
    }
   ],
   "source": [
    "from sklearn.linear_model import LogisticRegression\n",
    "\n",
    "clf = LogisticRegression(max_iter=500)\n",
    "clf.fit(X_train, y_train)\n",
    "\n",
    "train_acc = clf.score(X_train,y_train)\n",
    "test_acc = clf.score(X_test, y_test)\n",
    "print(\"acc_train:{:.4f}, acc_test:{:.4f}\".format(train_acc, test_acc))"
   ]
  },
  {
   "cell_type": "code",
   "execution_count": 92,
   "metadata": {},
   "outputs": [
    {
     "name": "stdout",
     "output_type": "stream",
     "text": [
      "GNB: alpha:----, acc_train:0.9577, acc_test:0.7628, AUC_test:0.8150\n",
      "MNB: alpha:1.00, acc_train:0.9061, acc_test:0.6724, AUC_test:0.7642\n"
     ]
    }
   ],
   "source": [
    "# use selected model and hyperparameter to calculate evaluation metrics: AUC, Accuracy\n",
    "from sklearn import metrics\n",
    "\n",
    "# GNB\n",
    "gnb = BernoulliNB(alpha=0.5)\n",
    "gnb.fit(X_train, y_train)\n",
    "\n",
    "train_acc = gnb.score(X_train, y_train)\n",
    "test_acc = gnb.score(X_test, y_test)\n",
    "\n",
    "# Prob of edge=1\n",
    "y_test_proba = gnb.predict_proba(X_test)\n",
    "# get roc fpr and tpr\n",
    "fpr, tpr, thresholds = metrics.roc_curve(y_test, y_test_proba[:,1])\n",
    "# results\n",
    "print(\"GNB: alpha:----, acc_train:{:.4f}, acc_test:{:.4f}, AUC_test:{:.4f}\".format(\n",
    "                                                                                train_acc, \n",
    "                                                                                test_acc,\n",
    "                                                                                metrics.auc(fpr, tpr)))\n",
    "# MNB\n",
    "mnb = MultinomialNB(alpha=0.5)\n",
    "mnb.fit(X_train, y_train)\n",
    "\n",
    "train_acc = mnb.score(X_train, y_train)\n",
    "test_acc = mnb.score(X_test, y_test)\n",
    "\n",
    "# Prob of edge=1\n",
    "y_test_proba = mnb.predict_proba(X_test)\n",
    "# get roc fpr and tpr\n",
    "fpr, tpr, thresholds = metrics.roc_curve(y_test, y_test_proba[:,1])\n",
    "# results\n",
    "print(\"MNB: alpha:{:.2f}, acc_train:{:.4f}, acc_test:{:.4f}, AUC_test:{:.4f}\".format(a, \n",
    "                                                                                train_acc, \n",
    "                                                                                test_acc,\n",
    "                                                                                metrics.auc(fpr, tpr)))\n",
    "\n"
   ]
  }
 ],
 "metadata": {
  "kernelspec": {
   "display_name": "Python 3",
   "language": "python",
   "name": "python3"
  },
  "language_info": {
   "codemirror_mode": {
    "name": "ipython",
    "version": 3
   },
   "file_extension": ".py",
   "mimetype": "text/x-python",
   "name": "python",
   "nbconvert_exporter": "python",
   "pygments_lexer": "ipython3",
   "version": "3.8.3"
  }
 },
 "nbformat": 4,
 "nbformat_minor": 2
}
