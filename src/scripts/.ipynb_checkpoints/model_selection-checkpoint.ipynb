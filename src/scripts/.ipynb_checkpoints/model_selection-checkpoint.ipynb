{
 "cells": [
  {
   "cell_type": "code",
   "execution_count": 1,
   "metadata": {},
   "outputs": [],
   "source": [
    "import csv\n",
    "import json\n",
    "import pandas as pd\n",
    "import numpy as np\n",
    "import random\n",
    "from collections import defaultdict"
   ]
  },
  {
   "cell_type": "code",
   "execution_count": 1,
   "metadata": {},
   "outputs": [
    {
     "ename": "NameError",
     "evalue": "name 'pd' is not defined",
     "output_type": "error",
     "traceback": [
      "\u001b[1;31m---------------------------------------------------------------------------\u001b[0m",
      "\u001b[1;31mNameError\u001b[0m                                 Traceback (most recent call last)",
      "\u001b[1;32m<ipython-input-1-fbe479606ca7>\u001b[0m in \u001b[0;36m<module>\u001b[1;34m\u001b[0m\n\u001b[1;32m----> 1\u001b[1;33m \u001b[0mtrain_set\u001b[0m \u001b[1;33m=\u001b[0m \u001b[0mpd\u001b[0m\u001b[1;33m.\u001b[0m\u001b[0mread_csv\u001b[0m\u001b[1;33m(\u001b[0m\u001b[1;34m'../data/final/train_reconstructed.csv'\u001b[0m\u001b[1;33m)\u001b[0m\u001b[1;33m\u001b[0m\u001b[1;33m\u001b[0m\u001b[0m\n\u001b[0m\u001b[0;32m      2\u001b[0m \u001b[1;33m\u001b[0m\u001b[0m\n\u001b[0;32m      3\u001b[0m \u001b[0mX_train\u001b[0m \u001b[1;33m=\u001b[0m \u001b[0mtrain_set\u001b[0m\u001b[1;33m.\u001b[0m\u001b[0miloc\u001b[0m\u001b[1;33m[\u001b[0m\u001b[1;33m:\u001b[0m\u001b[1;33m,\u001b[0m\u001b[1;33m:\u001b[0m\u001b[1;33m-\u001b[0m\u001b[1;36m1\u001b[0m\u001b[1;33m]\u001b[0m\u001b[1;33m.\u001b[0m\u001b[0mvalues\u001b[0m\u001b[1;33m\u001b[0m\u001b[1;33m\u001b[0m\u001b[0m\n\u001b[0;32m      4\u001b[0m \u001b[0my_train\u001b[0m \u001b[1;33m=\u001b[0m \u001b[0mtrain_set\u001b[0m\u001b[1;33m[\u001b[0m\u001b[1;34m'edge'\u001b[0m\u001b[1;33m]\u001b[0m\u001b[1;33m.\u001b[0m\u001b[0mvalues\u001b[0m\u001b[1;33m\u001b[0m\u001b[1;33m\u001b[0m\u001b[0m\n\u001b[0;32m      5\u001b[0m \u001b[1;33m\u001b[0m\u001b[0m\n",
      "\u001b[1;31mNameError\u001b[0m: name 'pd' is not defined"
     ]
    }
   ],
   "source": [
    "train_set = pd.read_csv('../data/final/train_reconstructed.csv')\n",
    "\n",
    "X_train = train_set.iloc[:,:-1].values\n",
    "y_train = train_set['edge'].values\n",
    "\n",
    "print('Training set X: {}'.format(X_train[:2]))\n",
    "print('Training set Y: {}'.format(y_train[:2]))"
   ]
  },
  {
   "cell_type": "code",
   "execution_count": 3,
   "metadata": {},
   "outputs": [
    {
     "name": "stdout",
     "output_type": "stream",
     "text": [
      "Test set X: [[4.         5.         3.         3.         1.         0.\n",
      "  0.         1.         0.         6.         0.3        0.\n",
      "  0.         0.         0.        ]\n",
      " [8.         4.         2.         2.         0.         0.\n",
      "  0.         0.         0.         8.         0.34782609 1.\n",
      "  0.14285714 0.         0.        ]]\n",
      "Test set Y: [0 1]\n"
     ]
    }
   ],
   "source": [
    "test_set = pd.read_csv('../data/final/dev-test.csv')\n",
    "\n",
    "X_test = test_set.iloc[:,:-1].values\n",
    "y_test = test_set['edge'].values\n",
    "\n",
    "print('Test set X: {}'.format(X_test[:2]))\n",
    "print('Test set Y: {}'.format(y_test[:2]))"
   ]
  },
  {
   "cell_type": "code",
   "execution_count": 4,
   "metadata": {},
   "outputs": [
    {
     "name": "stdout",
     "output_type": "stream",
     "text": [
      "Prediction : [1 1 1 1 1 1 1 1 1 1]\n",
      "Accuracy for train set: 0.5012030975822467\n",
      "Accuracy for dev set: 0.5\n"
     ]
    }
   ],
   "source": [
    "from sklearn.dummy import DummyClassifier\n",
    "\n",
    "ds_clf = DummyClassifier(strategy=\"most_frequent\") # Define our model, set parameter strategy to 'most_frequent'\n",
    "ds_clf.fit(X_train, y_train) # Use model.fit to train with our dataset \n",
    "Y_predict = ds_clf.predict(X_test) # Use model.predict to make prediction\n",
    "print(\"Prediction :\", Y_predict[:10])\n",
    "print(\"Accuracy for train set:\", ds_clf.score(X_train,y_train))\n",
    "print(\"Accuracy for dev set:\", ds_clf.score(X_test, y_test)) # Use model.score to evaluate our model."
   ]
  },
  {
   "cell_type": "code",
   "execution_count": 5,
   "metadata": {},
   "outputs": [
    {
     "name": "stdout",
     "output_type": "stream",
     "text": [
      "Probabilities : [7.06494086e-06 1.08507418e-02 6.05664564e-03 5.90119628e-03\n",
      " 5.57597558e-01 5.57597558e-01 5.57597558e-01 5.57597558e-01\n",
      " 1.08507418e-02 2.31106212e-05]\n",
      "Accuracy for train set: 0.9594729486923538\n",
      "Accuracy for dev set:  0.7986025482942869\n"
     ]
    }
   ],
   "source": [
    "from sklearn.naive_bayes import BernoulliNB\n",
    "\n",
    "bnb = BernoulliNB()\n",
    "bnb.fit(X_train, y_train)\n",
    "Y_proba = bnb.predict_proba(X_test) # Use model.predict to make prediction\n",
    "# Prob of being one\n",
    "print(\"Probabilities :\", Y_proba[:10,1])\n",
    "print(\"Accuracy for train set:\", bnb.score(X_train,y_train))\n",
    "print(\"Accuracy for dev set: \", bnb.score(X_test, y_test)) # Use model.score to evaluate our model.\n"
   ]
  },
  {
   "cell_type": "code",
   "execution_count": 6,
   "metadata": {},
   "outputs": [
    {
     "name": "stdout",
     "output_type": "stream",
     "text": [
      "Accuracy for train set: 0.9940317953998592\n",
      "Accuracy for dev set:  0.7809288943690916\n"
     ]
    }
   ],
   "source": [
    "from sklearn.ensemble import RandomForestClassifier\n",
    "\n",
    "clf = RandomForestClassifier(max_depth=20, n_estimators=200)\n",
    "clf.fit(X_train, y_train)\n",
    "print(\"Accuracy for train set:\", clf.score(X_train,y_train))\n",
    "print(\"Accuracy for dev set: \", clf.score(X_test, y_test)) # Use model.score to evaluate our model."
   ]
  },
  {
   "cell_type": "code",
   "execution_count": 7,
   "metadata": {},
   "outputs": [],
   "source": [
    "# from sklearn.svm import SVC\n",
    "# clf = SVC()\n",
    "# clf.fit(X_train, y_train)\n",
    "# print(\"Accuracy for train set:\", clf.score(X_train,y_train))\n",
    "# print(\"Accuracy for dev set: \", clf.score(X_test, y_test)) # Use model.score to evaluate our model."
   ]
  },
  {
   "cell_type": "code",
   "execution_count": null,
   "metadata": {},
   "outputs": [],
   "source": []
  }
 ],
 "metadata": {
  "kernelspec": {
   "display_name": "Python 3",
   "language": "python",
   "name": "python3"
  },
  "language_info": {
   "codemirror_mode": {
    "name": "ipython",
    "version": 3
   },
   "file_extension": ".py",
   "mimetype": "text/x-python",
   "name": "python",
   "nbconvert_exporter": "python",
   "pygments_lexer": "ipython3",
   "version": "3.8.2"
  }
 },
 "nbformat": 4,
 "nbformat_minor": 2
}
