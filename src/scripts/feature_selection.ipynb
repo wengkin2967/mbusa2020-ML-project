{
 "cells": [
  {
   "cell_type": "markdown",
   "metadata": {},
   "source": [
    "# Trying regressions with selected features based on entropy"
   ]
  },
  {
   "cell_type": "code",
   "execution_count": 49,
   "metadata": {},
   "outputs": [],
   "source": [
    "import csv\n",
    "import json\n",
    "import pandas as pd\n",
    "import numpy as np\n",
    "import random\n",
    "from collections import defaultdict\n",
    "from sklearn.metrics import roc_auc_score"
   ]
  },
  {
   "cell_type": "code",
   "execution_count": 50,
   "metadata": {
    "tags": []
   },
   "outputs": [
    {
     "output_type": "stream",
     "name": "stdout",
     "text": "Training set X: [[22.          2.          0.          3.         12.          0.46153846\n   3.          0.375       0.          0.        ]\n [14.          0.          1.          5.         13.          0.56521739\n   2.          0.33333333  0.          0.        ]]\nTraining set Y: [1 1]\n"
    },
    {
     "output_type": "execute_result",
     "data": {
      "text/plain": "(95154, 10)"
     },
     "metadata": {},
     "execution_count": 50
    }
   ],
   "source": [
    "train_set = pd.read_csv('../data/final/train_reconstructed.csv')\n",
    "\n",
    "X_train = train_set.iloc[:,:-1].values\n",
    "y_train = train_set['edge'].values\n",
    "\n",
    "print('Training set X: {}'.format(X_train[:2]))\n",
    "print('Training set Y: {}'.format(y_train[:2]))\n",
    "X_train.shape"
   ]
  },
  {
   "cell_type": "code",
   "execution_count": 51,
   "metadata": {
    "tags": []
   },
   "outputs": [
    {
     "output_type": "stream",
     "name": "stdout",
     "text": "Test set X: [[ 9.          0.          1.          2.          6.          0.3\n   0.          0.          0.          0.        ]\n [12.          0.          0.          2.          8.          0.34782609\n   1.          0.14285714  0.          0.        ]]\nTest set Y: [0 1]\n"
    },
    {
     "output_type": "execute_result",
     "data": {
      "text/plain": "(4866, 10)"
     },
     "metadata": {},
     "execution_count": 51
    }
   ],
   "source": [
    "test_set = pd.read_csv('../data/final/dev-test.csv')\n",
    "\n",
    "X_test = test_set.iloc[:,:-1].values\n",
    "y_test = test_set['edge'].values\n",
    "\n",
    "print('Test set X: {}'.format(X_test[:2]))\n",
    "print('Test set Y: {}'.format(y_test[:2]))\n",
    "X_test.shape"
   ]
  },
  {
   "cell_type": "code",
   "execution_count": 52,
   "metadata": {},
   "outputs": [
    {
     "output_type": "execute_result",
     "data": {
      "text/plain": "(100020, 10)"
     },
     "metadata": {},
     "execution_count": 52
    }
   ],
   "source": [
    "# Perform univariate feature selection\n",
    "from sklearn.feature_selection import SelectKBest\n",
    "from sklearn.feature_selection import chi2\n",
    "\n",
    "X_big = np.concatenate((X_train,X_test),0)\n",
    "y_big = np.concatenate((y_train,y_test),0)\n",
    "\n",
    "X_big.shape"
   ]
  },
  {
   "cell_type": "code",
   "execution_count": 53,
   "metadata": {},
   "outputs": [
    {
     "output_type": "execute_result",
     "data": {
      "text/plain": "(100020, 10)"
     },
     "metadata": {},
     "execution_count": 53
    }
   ],
   "source": [
    "X_new = SelectKBest(chi2, k=10).fit_transform(X_big, y_big)\n",
    "X_new.shape"
   ]
  },
  {
   "cell_type": "code",
   "execution_count": 54,
   "metadata": {
    "tags": []
   },
   "outputs": [
    {
     "output_type": "stream",
     "name": "stdout",
     "text": "(95154, 10)\n(4866, 10)\n"
    }
   ],
   "source": [
    "# Split big dataset back to training and test\n",
    "X_train = X_new[:95154,]\n",
    "print(X_train.shape)\n",
    "\n",
    "X_test = X_new[95154:,]\n",
    "print(X_test.shape)"
   ]
  },
  {
   "cell_type": "code",
   "execution_count": 55,
   "metadata": {
    "tags": []
   },
   "outputs": [
    {
     "output_type": "stream",
     "name": "stdout",
     "text": "alpha:0.10, acc_train:0.9598, acc_test:0.7641, AUC:0.8147\nalpha:0.20, acc_train:0.9598, acc_test:0.7641, AUC:0.8148\nalpha:0.30, acc_train:0.9598, acc_test:0.7641, AUC:0.8148\nalpha:0.40, acc_train:0.9598, acc_test:0.7641, AUC:0.8149\nalpha:0.50, acc_train:0.9598, acc_test:0.7641, AUC:0.8150\nalpha:0.60, acc_train:0.9598, acc_test:0.7641, AUC:0.8152\nalpha:0.70, acc_train:0.9598, acc_test:0.7641, AUC:0.8152\nalpha:0.80, acc_train:0.9598, acc_test:0.7641, AUC:0.8152\nalpha:0.90, acc_train:0.9598, acc_test:0.7641, AUC:0.8155\nalpha:1.00, acc_train:0.9598, acc_test:0.7641, AUC:0.8155\n"
    }
   ],
   "source": [
    "from sklearn.naive_bayes import BernoulliNB\n",
    "alpha = [0.1, 0.2, 0.3, 0.4, 0.5, 0.6, 0.7, 0.8, 0.9, 1.0]\n",
    "\n",
    "for a in alpha:\n",
    "    clf = BernoulliNB(alpha=a)\n",
    "    clf.fit(X_train, y_train)\n",
    "\n",
    "    train_acc = clf.score(X_train, y_train)\n",
    "    test_acc = clf.score(X_test, y_test)\n",
    "\n",
    "    Y_proba = clf.predict_proba(X_test)[:,1]\n",
    "    auc = roc_auc_score(y_test,Y_proba)\n",
    "\n",
    "    print(\"alpha:{:.2f}, acc_train:{:.4f}, acc_test:{:.4f}, AUC:{:.4f}\".format(a, train_acc, test_acc, auc))\n"
   ]
  },
  {
   "cell_type": "code",
   "execution_count": 56,
   "metadata": {
    "tags": []
   },
   "outputs": [
    {
     "output_type": "stream",
     "name": "stdout",
     "text": "GNB: acc_train:0.9528, acc_test:0.7885, AUC_test:0.8122\n"
    }
   ],
   "source": [
    "from sklearn.naive_bayes import GaussianNB\n",
    "\n",
    "gnb = GaussianNB()\n",
    "gnb.fit(X_train, y_train)\n",
    "\n",
    "train_acc = gnb.score(X_train, y_train)\n",
    "test_acc = gnb.score(X_test, y_test)\n",
    "\n",
    "Y_proba = gnb.predict_proba(X_test)[:,1]\n",
    "auc = roc_auc_score(y_test,Y_proba)\n",
    "\n",
    "print(\"GNB: acc_train:{:.4f}, acc_test:{:.4f}, AUC_test:{:.4f}\".format(train_acc,test_acc,auc))"
   ]
  },
  {
   "cell_type": "code",
   "execution_count": 57,
   "metadata": {
    "tags": []
   },
   "outputs": [
    {
     "output_type": "stream",
     "name": "stdout",
     "text": "RF : depth:1.00, acc_train:0.9609, acc_test:0.8070, AUC_test:0.8232\nRF : depth:2.00, acc_train:0.9614, acc_test:0.8070, AUC_test:0.8281\nRF : depth:3.00, acc_train:0.9621, acc_test:0.8070, AUC_test:0.8320\nRF : depth:4.00, acc_train:0.9634, acc_test:0.8039, AUC_test:0.8366\nRF : depth:5.00, acc_train:0.9650, acc_test:0.7877, AUC_test:0.8364\nRF : depth:6.00, acc_train:0.9661, acc_test:0.7891, AUC_test:0.8381\nRF : depth:7.00, acc_train:0.9673, acc_test:0.7861, AUC_test:0.8381\nRF : depth:8.00, acc_train:0.9687, acc_test:0.7848, AUC_test:0.8388\nRF : depth:9.00, acc_train:0.9704, acc_test:0.7857, AUC_test:0.8383\nRF : depth:10.00, acc_train:0.9722, acc_test:0.7859, AUC_test:0.8387\n"
    }
   ],
   "source": [
    "from sklearn.ensemble import RandomForestClassifier\n",
    "\n",
    "depth = range(1,10+1)\n",
    "\n",
    "for d in depth:\n",
    "    rf = RandomForestClassifier(max_depth=d, n_estimators=100)\n",
    "    rf.fit(X_train, y_train)\n",
    "    train_acc = rf.score(X_train,y_train)\n",
    "    test_acc = rf.score(X_test,y_test)\n",
    "    # Prob of edge=1\n",
    "    Y_proba = rf.predict_proba(X_test)[:,1]\n",
    "\n",
    "    auc_test = roc_auc_score(y_test, Y_proba)\n",
    "    print(\"RF : depth:{:.2f}, acc_train:{:.4f}, acc_test:{:.4f}, AUC_test:{:.4f}\".format(d, \n",
    "                                                                                            train_acc, \n",
    "                                                                                            test_acc,\n",
    "                                                                                            auc_test))"
   ]
  },
  {
   "cell_type": "code",
   "execution_count": 58,
   "metadata": {
    "tags": []
   },
   "outputs": [
    {
     "output_type": "stream",
     "name": "stdout",
     "text": "LR : acc_train:0.9615, acc_test:0.7900, AUC_test:0.8387\n"
    }
   ],
   "source": [
    "from sklearn.linear_model import LogisticRegression\n",
    "\n",
    "lr = LogisticRegression(max_iter=500)\n",
    "lr.fit(X_train, y_train)\n",
    "\n",
    "train_acc = lr.score(X_train,y_train)\n",
    "test_acc = lr.score(X_test,y_test)\n",
    "\n",
    "Y_test = lr.predict_proba(X_test)[:,1]\n",
    "\n",
    "auc = roc_auc_score(y_test,Y_proba)\n",
    "\n",
    "print(\"LR : acc_train:{:.4f}, acc_test:{:.4f}, AUC_test:{:.4f}\".format(train_acc, test_acc,auc_test))"
   ]
  },
  {
   "cell_type": "code",
   "execution_count": 59,
   "metadata": {
    "tags": []
   },
   "outputs": [
    {
     "output_type": "stream",
     "name": "stdout",
     "text": "STACKING : acc_train:0.9749, acc_test:0.7861, AUC_test:0.8387\n"
    }
   ],
   "source": [
    "from sklearn.ensemble import StackingClassifier\n",
    "\n",
    "estimators = [\n",
    "                ('rf', RandomForestClassifier(max_depth=10, n_estimators=100)),\n",
    "                ('bnb', BernoulliNB(alpha=0.8),\n",
    "                ('lr',LogisticRegression(max_iter=500)))\n",
    "            ]\n",
    "\n",
    "clf = StackingClassifier(estimators=estimators, final_estimator=None)\n",
    "clf.fit(X_train, y_train)\n",
    "\n",
    "train_acc = clf.score(X_train, y_train)\n",
    "test_acc = clf.score(X_test, y_test)\n",
    "\n",
    "Y_test = clf.predict_proba(X_test)[:,1]\n",
    "\n",
    "auc = roc_auc_score(y_test,Y_proba)\n",
    "\n",
    "print(\"STACKING : acc_train:{:.4f}, acc_test:{:.4f}, AUC_test:{:.4f}\".format(train_acc, test_acc,auc_test))"
   ]
  },
  {
   "cell_type": "code",
   "execution_count": 60,
   "metadata": {},
   "outputs": [],
   "source": [
    "# from sklearn.svm import SVC\n",
    "\n",
    "# clf = SVC(kernel='rbf')\n",
    "# clf.fit(X_train,y_train)"
   ]
  }
 ],
 "metadata": {
  "language_info": {
   "codemirror_mode": {
    "name": "ipython",
    "version": 3
   },
   "file_extension": ".py",
   "mimetype": "text/x-python",
   "name": "python",
   "nbconvert_exporter": "python",
   "pygments_lexer": "ipython3",
   "version": "3.7.3-final"
  },
  "orig_nbformat": 2,
  "kernelspec": {
   "name": "python3",
   "display_name": "Python 3"
  }
 },
 "nbformat": 4,
 "nbformat_minor": 2
}